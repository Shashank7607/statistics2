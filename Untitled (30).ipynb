{
 "cells": [
  {
   "cell_type": "code",
   "execution_count": 1,
   "id": "ddba55d1-2aca-4768-bff5-584bbbd84ed3",
   "metadata": {},
   "outputs": [],
   "source": [
    "#Ans 1"
   ]
  },
  {
   "cell_type": "code",
   "execution_count": 2,
   "id": "f3bab28d-e0d3-41c1-abb9-22d5614829bd",
   "metadata": {},
   "outputs": [],
   "source": [
    "# The probability density function (PDF) is a concept in probability theory and statistics that describes the likelihood of a continuous random variable taking on a specific value within a given range. It is denoted as f(x) and represents the derivative of the cumulative distribution function (CDF) with respect to x.\n",
    "\n",
    "# The PDF provides information about the relative likelihood of different outcomes occurring. It is non-negative for all values of x and integrates over the entire range to 1, which means that the total probability of all possible outcomes is equal to 1.\n",
    "\n",
    "# In simpler terms, the PDF describes the shape of the probability distribution of a continuous random variable. It specifies the probability of the variable taking on different values, and the area under the curve of the PDF within a given interval represents the probability of the variable falling within that interval.\n",
    "\n",
    "# It's important to note that the PDF is applicable only to continuous random variables, as discrete random variables have probability mass functions (PMFs) instead. Examples of continuous random variables include measurements such as height, weight, time, and temperature."
   ]
  },
  {
   "cell_type": "code",
   "execution_count": 3,
   "id": "f6a375c1-ab15-411e-8d83-e3928be349c1",
   "metadata": {},
   "outputs": [],
   "source": [
    "#Ans 2"
   ]
  },
  {
   "cell_type": "code",
   "execution_count": 4,
   "id": "1c2acab8-7ea0-4ec4-82a6-d62ff2036480",
   "metadata": {},
   "outputs": [],
   "source": [
    "# There are several types of probability distributions, each with its own characteristics and applications. Some of the commonly encountered probability distributions include:\n",
    "\n",
    "# 1. Uniform Distribution: The uniform distribution assigns equal probability to all outcomes within a given range. It is characterized by a constant PDF.\n",
    "\n",
    "# 2. Normal Distribution: Also known as the Gaussian distribution, the normal distribution is a bell-shaped distribution that is symmetric around its mean. It is widely used due to the central limit theorem and is characterized by its mean and standard deviation.\n",
    "\n",
    "# 3. Binomial Distribution: The binomial distribution models the number of successes in a fixed number of independent Bernoulli trials. It is characterized by two parameters: the probability of success in each trial and the number of trials.\n",
    "\n",
    "# 4. Poisson Distribution: The Poisson distribution models the number of events occurring in a fixed interval of time or space. It is often used to represent rare events and is characterized by a single parameter, the average rate of occurrence.\n",
    "\n",
    "# 5. Exponential Distribution: The exponential distribution models the time between events in a Poisson process, where events occur continuously and independently at a constant average rate. It is commonly used to model waiting times and is characterized by a single parameter, the rate parameter.\n",
    "\n",
    "# 6. Gamma Distribution: The gamma distribution is a versatile distribution that generalizes the exponential and chi-squared distributions. It is used to model continuous positive variables and is characterized by two parameters: shape and scale.\n",
    "\n",
    "# 7. Chi-Squared Distribution: The chi-squared distribution is used to model the sum of squares of independent standard normal variables. It is often employed in hypothesis testing and confidence interval estimation.\n",
    "\n",
    "# 8. Student's t-Distribution: The t-distribution is used when working with small sample sizes or when the population standard deviation is unknown. It is commonly used for hypothesis testing and confidence intervals.\n",
    "\n",
    "# These are just a few examples of probability distributions, and there are many others, each with its own properties and applications. The choice of distribution depends on the characteristics of the data and the problem at hand."
   ]
  },
  {
   "cell_type": "code",
   "execution_count": 5,
   "id": "84d897b9-4e22-451b-ba2e-be33a5a67fd7",
   "metadata": {},
   "outputs": [],
   "source": [
    "#Ans 3"
   ]
  },
  {
   "cell_type": "code",
   "execution_count": 6,
   "id": "09c863b8-f661-416f-ac63-62ba1f199b79",
   "metadata": {},
   "outputs": [],
   "source": [
    "# Certainly! Here's an example of a Python function that calculates the probability density function (PDF) of a normal distribution at a given point, given the mean and standard deviation:"
   ]
  },
  {
   "cell_type": "code",
   "execution_count": 7,
   "id": "00189c0d-b36b-4ea0-ab9b-25742f8c2c49",
   "metadata": {},
   "outputs": [],
   "source": [
    "import math\n",
    "\n",
    "def normal_pdf(x, mean, std_dev):\n",
    "    coefficient = 1 / (std_dev * math.sqrt(2 * math.pi))\n",
    "    exponent = -((x - mean) ** 2) / (2 * std_dev ** 2)\n",
    "    pdf_value = coefficient * math.exp(exponent)\n",
    "    return pdf_value\n"
   ]
  },
  {
   "cell_type": "code",
   "execution_count": 8,
   "id": "f724165d-ab23-4d05-9396-f0480314c6a6",
   "metadata": {},
   "outputs": [],
   "source": [
    "# In this function, x represents the point at which you want to calculate the PDF, mean is the mean of the normal distribution, and std_dev is the standard deviation. The function calculates the PDF using the formula for the normal distribution.\n",
    "\n",
    "# To use this function, simply call it with the desired values:"
   ]
  },
  {
   "cell_type": "code",
   "execution_count": 9,
   "id": "2176ced0-6ff1-488f-8ebb-46f6a2271703",
   "metadata": {},
   "outputs": [
    {
     "name": "stdout",
     "output_type": "stream",
     "text": [
      "PDF at x = 1.5 is 0.12951759566589174\n"
     ]
    }
   ],
   "source": [
    "mean = 0\n",
    "std_dev = 1\n",
    "x = 1.5\n",
    "pdf = normal_pdf(x, mean, std_dev)\n",
    "print(\"PDF at x =\", x, \"is\", pdf)\n"
   ]
  },
  {
   "cell_type": "code",
   "execution_count": 10,
   "id": "83a5aaf6-542d-406b-b258-e1f71d72bd0b",
   "metadata": {},
   "outputs": [],
   "source": [
    "# In this example, we calculate the PDF at x = 1.5 for a normal distribution with a mean of 0 and a standard deviation of 1. The result is then printed to the console.\n",
    "\n",
    "# Remember to ensure that you have the math module imported before using this function, as it is required for mathematical operations like square root and exponential functions."
   ]
  },
  {
   "cell_type": "code",
   "execution_count": 11,
   "id": "b9375ec3-8909-454b-adaf-3cac45d3a189",
   "metadata": {},
   "outputs": [],
   "source": [
    "#Ans 4"
   ]
  },
  {
   "cell_type": "code",
   "execution_count": 12,
   "id": "2e85da75-174d-480a-a485-1e2111c316a9",
   "metadata": {},
   "outputs": [],
   "source": [
    "# The binomial distribution has several properties that make it useful for modeling certain types of events. Here are some key properties of the binomial distribution:\n",
    "\n",
    "# 1. Fixed Number of Trials: The binomial distribution models a fixed number of independent trials, denoted by 'n'. Each trial can result in one of two outcomes, often referred to as success (S) and failure (F).\n",
    "\n",
    "# 2. Independent Trials: Each trial in the binomial distribution is assumed to be independent of the others. The outcome of one trial does not affect the outcomes of other trials.\n",
    "\n",
    "# 3. Constant Probability: The probability of success, denoted by 'p', remains constant across all trials. The probability of failure is then given by q = 1 - p.\n",
    "\n",
    "# 4. Discrete Outcomes: The binomial distribution deals with discrete outcomes. It counts the number of successes (S) in 'n' trials.\n",
    "\n",
    "# 5. Binomial Coefficient: The probability mass function of the binomial distribution involves the binomial coefficient, which represents the number of ways to choose 'k' successes from 'n' trials. The binomial coefficient is denoted as nCk or \"n choose k\".\n",
    "\n",
    "# Examples of events where the binomial distribution can be applied include:\n",
    "\n",
    "# 1. Coin Flipping: Consider a scenario where you flip a fair coin 10 times and want to calculate the probability of obtaining a specific number of heads. Each coin flip is an independent trial, and the outcome is either a success (heads) or a failure (tails). The binomial distribution can be used to model the number of heads obtained in the 10 flips.\n",
    "\n",
    "# 2. Product Defects: Suppose you are inspecting a batch of products, and each product can be defective (success) or non-defective (failure). You randomly select 20 products from the batch and want to determine the probability of having a certain number of defective products. The binomial distribution can be applied to model the number of defective products among the 20 selected items.\n",
    "\n",
    "# In both examples, the binomial distribution is used to calculate the probabilities of different outcomes based on the fixed number of trials, independent nature of the trials, and constant probability of success.\n",
    "\n"
   ]
  },
  {
   "cell_type": "code",
   "execution_count": 13,
   "id": "b06087be-a048-4585-86d4-ade4407a997f",
   "metadata": {},
   "outputs": [],
   "source": [
    "#Ans 5"
   ]
  },
  {
   "cell_type": "code",
   "execution_count": 14,
   "id": "82018094-a804-4fdd-9083-d82be3306beb",
   "metadata": {},
   "outputs": [],
   "source": [
    "# Certainly! Here's an example of how you can generate a random sample of size 1000 from a binomial distribution with a probability of success of 0.4 using NumPy and then plot a histogram of the results using Matplotlib:"
   ]
  },
  {
   "cell_type": "code",
   "execution_count": 15,
   "id": "44d3601a-f900-4a73-8e45-bbe69a48f592",
   "metadata": {},
   "outputs": [
    {
     "data": {
      "image/png": "[encoded data removed]",
      "text/plain": [
       "<Figure size 640x480 with 1 Axes>"
      ]
     },
     "metadata": {},
     "output_type": "display_data"
    }
   ],
   "source": [
    "import numpy as np\n",
    "import matplotlib.pyplot as plt\n",
    "\n",
    "# Set the parameters\n",
    "n = 1000  # Number of trials\n",
    "p = 0.4  # Probability of success\n",
    "\n",
    "# Generate the random sample\n",
    "sample = np.random.binomial(n, p, size=1000)\n",
    "\n",
    "# Plot the histogram\n",
    "plt.hist(sample, bins='auto', alpha=0.7, rwidth=0.85)\n",
    "plt.grid(axis='y', alpha=0.5)\n",
    "plt.xlabel('Number of Successes')\n",
    "plt.ylabel('Frequency')\n",
    "plt.title('Binomial Distribution: n=1000, p=0.4')\n",
    "plt.show()\n"
   ]
  },
  {
   "cell_type": "code",
   "execution_count": 16,
   "id": "dc2c24d7-228b-4d27-9974-0da41807298a",
   "metadata": {},
   "outputs": [],
   "source": [
    "# In this example, we use the np.random.binomial function from NumPy to generate a random sample of size 1000 from a binomial distribution with a probability of success of 0.4. The size parameter specifies the size of the sample.\n",
    "\n",
    "# We then plot the histogram of the generated sample using plt.hist from Matplotlib. The bins='auto' argument automatically determines the number of bins in the histogram. The other lines of code are used to add labels, titles, and grid lines to the plot.\n",
    "\n",
    "# When you run this code, it will display a histogram showing the distribution of the random sample. The x-axis represents the number of successes, and the y-axis represents the frequency of each number of successes in the sample."
   ]
  },
  {
   "cell_type": "code",
   "execution_count": 17,
   "id": "163a08b1-dd1d-4652-ac90-1772242ebe50",
   "metadata": {},
   "outputs": [],
   "source": [
    "#Ans 6"
   ]
  },
  {
   "cell_type": "code",
   "execution_count": 18,
   "id": "f64a9500-0003-448e-9dbc-1c5c3acaa4e6",
   "metadata": {},
   "outputs": [],
   "source": [
    "# Certainly! Here's an example of a Python function that calculates the cumulative distribution function (CDF) of a Poisson distribution at a given point, given the mean:"
   ]
  },
  {
   "cell_type": "code",
   "execution_count": 19,
   "id": "6feecf8c-c286-4ef1-80c6-8bc50b184875",
   "metadata": {},
   "outputs": [],
   "source": [
    "import math\n",
    "\n",
    "def poisson_cdf(k, mean):\n",
    "    cdf_value = 0.0\n",
    "    for i in range(k + 1):\n",
    "        cdf_value += (math.exp(-mean) * mean**i) / math.factorial(i)\n",
    "    return cdf_value\n"
   ]
  },
  {
   "cell_type": "code",
   "execution_count": 20,
   "id": "584a21a1-e6fa-4d1a-b091-a4c7ba4ef3e8",
   "metadata": {},
   "outputs": [],
   "source": [
    "# In this function, k represents the point at which you want to calculate the CDF, and mean is the mean of the Poisson distribution. The function iterates over the values from 0 to k and calculates the individual probabilities of each value using the Poisson probability mass function. It then sums up these probabilities to obtain the cumulative probability.\n",
    "\n",
    "# To use this function, simply call it with the desired values:"
   ]
  },
  {
   "cell_type": "code",
   "execution_count": 21,
   "id": "b4b0b226-4d46-4bd9-bb14-cced4b90dcad",
   "metadata": {},
   "outputs": [
    {
     "name": "stdout",
     "output_type": "stream",
     "text": [
      "CDF at k = 4 is 0.7254449533096046\n"
     ]
    }
   ],
   "source": [
    "mean = 3.5\n",
    "k = 4\n",
    "cdf = poisson_cdf(k, mean)\n",
    "print(\"CDF at k =\", k, \"is\", cdf)\n"
   ]
  },
  {
   "cell_type": "code",
   "execution_count": 22,
   "id": "d36656ec-797e-441c-aa63-2503d309f2ca",
   "metadata": {},
   "outputs": [],
   "source": [
    "# In this example, we calculate the CDF at k = 4 for a Poisson distribution with a mean of 3.5. The result is then printed to the console.\n",
    "\n",
    "# Note that the math module is imported to use mathematical functions like exponentiation and factorial."
   ]
  },
  {
   "cell_type": "code",
   "execution_count": 23,
   "id": "7abfd970-9011-45e2-b33e-1cd9466dd23a",
   "metadata": {},
   "outputs": [],
   "source": [
    "#Ans 7"
   ]
  },
  {
   "cell_type": "code",
   "execution_count": 24,
   "id": "2200fed8-28df-4d24-9640-49afb6291a3c",
   "metadata": {},
   "outputs": [],
   "source": [
    "# The binomial distribution and the Poisson distribution are both probability distributions commonly used to model discrete random variables. However, there are several key differences between them:\n",
    "\n",
    "# 1. Number of Trials: The binomial distribution deals with a fixed number of independent trials, denoted by 'n', where each trial can result in one of two outcomes (usually success or failure). In contrast, the Poisson distribution does not involve a fixed number of trials. It models the number of events occurring in a fixed interval of time or space.\n",
    "\n",
    "# 2. Probability of Success: In the binomial distribution, the probability of success, denoted by 'p', remains constant across all trials. In the Poisson distribution, there is no notion of success or failure. Instead, it uses a single parameter, often denoted by 'λ' (lambda), which represents the average rate of occurrence of events.\n",
    "\n",
    "# 3. Nature of Events: The binomial distribution is used when the events being modeled are independent and have a constant probability of success. It is often used to model situations such as coin flips or product defects. The Poisson distribution, on the other hand, is used to model the occurrence of rare events or events that happen randomly in a fixed interval, such as the number of phone calls received in a day or the number of emails received in an hour.\n",
    "\n",
    "# 4. Shape of Distribution: The binomial distribution is symmetric and bell-shaped when the number of trials is large. As the number of trials increases, it approaches a normal distribution. The Poisson distribution is a skewed distribution, where the mean is equal to the variance. As the average rate of occurrence (λ) increases, the Poisson distribution approaches a normal distribution.\n",
    "\n",
    "# 5. Parameters: The binomial distribution is characterized by two parameters: the number of trials (n) and the probability of success (p). The Poisson distribution is characterized by a single parameter, the average rate of occurrence (λ).\n",
    "\n",
    "# Overall, the binomial distribution is used when dealing with a fixed number of independent trials with a constant probability of success, while the Poisson distribution is used to model the occurrence of rare or random events without a fixed number of trials."
   ]
  },
  {
   "cell_type": "code",
   "execution_count": 25,
   "id": "528e3c5b-0f4f-47fe-9391-2b95e4b6e486",
   "metadata": {},
   "outputs": [],
   "source": [
    "#Ans 8"
   ]
  },
  {
   "cell_type": "code",
   "execution_count": 26,
   "id": "c8ebf437-1d06-4d04-8a15-4497e10016d4",
   "metadata": {},
   "outputs": [],
   "source": [
    "# Certainly! Here's an example of how you can generate a random sample of size 1000 from a Poisson distribution with a mean of 5 using NumPy, and then calculate the sample mean and variance:"
   ]
  },
  {
   "cell_type": "code",
   "execution_count": 27,
   "id": "9417e58b-7783-4046-9281-5c759d6244b0",
   "metadata": {},
   "outputs": [
    {
     "name": "stdout",
     "output_type": "stream",
     "text": [
      "Sample Mean: 5.14\n",
      "Sample Variance: 4.9883999999999995\n"
     ]
    }
   ],
   "source": [
    "import numpy as np\n",
    "\n",
    "# Set the parameters\n",
    "mean = 5\n",
    "sample_size = 1000\n",
    "\n",
    "# Generate the random sample\n",
    "sample = np.random.poisson(mean, size=sample_size)\n",
    "\n",
    "# Calculate the sample mean and variance\n",
    "sample_mean = np.mean(sample)\n",
    "sample_variance = np.var(sample)\n",
    "\n",
    "print(\"Sample Mean:\", sample_mean)\n",
    "print(\"Sample Variance:\", sample_variance)\n"
   ]
  },
  {
   "cell_type": "code",
   "execution_count": 28,
   "id": "30e89902-cb72-4dee-888f-b07b1fced22d",
   "metadata": {},
   "outputs": [],
   "source": [
    "# In this example, we use the np.random.poisson function from NumPy to generate a random sample of size 1000 from a Poisson distribution with a mean of 5. The size parameter specifies the size of the sample.\n",
    "\n",
    "# We then calculate the sample mean using np.mean and the sample variance using np.var on the generated sample.\n",
    "\n",
    "# When you run this code, it will display the calculated sample mean and variance based on the generated random sample."
   ]
  },
  {
   "cell_type": "code",
   "execution_count": 29,
   "id": "b1ac839e-fe76-43d1-bc17-4f22fef3376f",
   "metadata": {},
   "outputs": [],
   "source": [
    "#Ans 9. "
   ]
  },
  {
   "cell_type": "code",
   "execution_count": null,
   "id": "2569df52-567a-4d0c-b9fa-9aad88685e9b",
   "metadata": {},
   "outputs": [],
   "source": []
  }
 ],
 "metadata": {
  "kernelspec": {
   "display_name": "Python 3 (ipykernel)",
   "language": "python",
   "name": "python3"
  },
  "language_info": {
   "codemirror_mode": {
    "name": "ipython",
    "version": 3
   },
   "file_extension": ".py",
   "mimetype": "text/x-python",
   "name": "python",
   "nbconvert_exporter": "python",
   "pygments_lexer": "ipython3",
   "version": "3.10.8"
  }
 },
 "nbformat": 4,
 "nbformat_minor": 5
}
